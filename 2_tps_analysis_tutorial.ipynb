{
 "cells": [
  {
   "cell_type": "markdown",
   "metadata": {},
   "source": [
    "# TPS Analysis Tutorial\n",
    "\n",
    "This tutorial will show you how to analyze a TPS simulation.\n",
    "\n",
    "As with the tutorial on setting up a TPS sampling simulation, you will use several libraries in this notebook. Most prominently, [`OpenPathSampling`](http://openpathsampling.org), which handles most of the analysis of its own simulation. We'll also use:\n",
    "\n",
    "* [`matplotlib`](http://matplotlib.org/), a library for creating plots\n",
    "* [`nglview`](https://github.com/arose/nglview/), a library for visualizing MD trajectories in Jupyter notebooks\n",
    "\n",
    "Note also how we calculate information about the path lengths: these are not OPS-specific tools. Instead, we just use Python's built-in functions.\n",
    "\n",
    "We'll start by briefly analyzing the simulation you ran. Then we will do some more in-depth analysis of a long TPS simulation.\n",
    "\n",
    "First, of course, we import the libraries we'll use:"
   ]
  },
  {
   "cell_type": "code",
   "execution_count": null,
   "metadata": {
    "collapsed": true
   },
   "outputs": [],
   "source": [
    "%matplotlib inline\n",
    "from __future__ import print_function\n",
    "import openpathsampling as paths\n",
    "import numpy as np\n",
    "import os\n",
    "\n",
    "import matplotlib.pyplot as plt\n",
    "import matplotlib\n",
    "matplotlib.rcParams.update({'font.size': 18})\n",
    "matplotlib.rcParams.update({'figure.figsize': (8.8, 6.6)})\n",
    "from openpathsampling.numerics import HistogramPlotter2D\n",
    "import openpathsampling.visualize as ops_vis\n",
    "from IPython.display import SVG\n",
    "\n",
    "import nglview as nv\n",
    "\n",
    "# Jupyter is raising deprecation warning from JSON now... ignore\n",
    "import warnings\n",
    "warnings.filterwarnings('ignore')"
   ]
  },
  {
   "cell_type": "markdown",
   "metadata": {},
   "source": [
    "## Analysis of your results\n",
    "\n",
    "Start by loading the file:"
   ]
  },
  {
   "cell_type": "code",
   "execution_count": null,
   "metadata": {
    "collapsed": true
   },
   "outputs": [],
   "source": [
    "storage = paths.AnalysisStorage(\"tps_simulation_results.nc\")"
   ]
  },
  {
   "cell_type": "markdown",
   "metadata": {},
   "source": [
    "The `scheme.move_summary` tells us about acceptance of different types of moves. In complicated schemes, it can show us acceptance of different paths through the move decision tree."
   ]
  },
  {
   "cell_type": "code",
   "execution_count": null,
   "metadata": {
    "collapsed": true
   },
   "outputs": [],
   "source": [
    "scheme = storage.schemes[0]  # only one in there\n",
    "scheme.move_summary(storage.steps)"
   ]
  },
  {
   "cell_type": "code",
   "execution_count": null,
   "metadata": {
    "collapsed": true
   },
   "outputs": [],
   "source": [
    "tree = ops_vis.PathTree(\n",
    "    storage.steps,\n",
    "    ops_vis.ReplicaEvolution(replica=0)\n",
    ")\n",
    "\n",
    "SVG(tree.svg())"
   ]
  },
  {
   "cell_type": "markdown",
   "metadata": {},
   "source": [
    "* Do you see acceptance of both forward and backward shots?\n",
    "* How many decorrelated paths do you see? \n",
    "* How many accepted moves between decorrelated paths? How many total moves?"
   ]
  },
  {
   "cell_type": "markdown",
   "metadata": {},
   "source": [
    "Now let's visualize some of your trajectories. The transition that occurs in this simulation is a pretty small, subtle change. To see it, I recommend looking down the ALA-C ALA-C$_\\alpha$ bond, and watching the relative orientations of the two nitrogens (this is basically the $\\psi$ dihedral angle). We'll use NGLView to visualize it in the notebook, after converting the OPS trajectory to an MDTraj trajectory."
   ]
  },
  {
   "cell_type": "code",
   "execution_count": null,
   "metadata": {
    "collapsed": true
   },
   "outputs": [],
   "source": [
    "# YOUR TURN: load a trajectory from your simulation. \n",
    "# Replace #### in the next line (and uncomment it).\n",
    "#traj = storage.steps[####].active[0].trajectory"
   ]
  },
  {
   "cell_type": "code",
   "execution_count": null,
   "metadata": {
    "collapsed": true
   },
   "outputs": [],
   "source": [
    "md_traj = traj.to_mdtraj().image_molecules()\n",
    "view = nv.show_mdtraj(md_traj)\n",
    "view.add_ball_and_stick(\"ACE ALA NME\")\n",
    "view.center()\n",
    "view"
   ]
  },
  {
   "cell_type": "markdown",
   "metadata": {},
   "source": [
    "Double-clicking the viewing window makes it go full screen. You can also pan, zoom, and rotate using the mouse.\n",
    "\n",
    "Note that you can also save the trajectory in a format that VMD can read, and then you could use VMD instead.\n",
    "\n",
    "```python\n",
    "traj.to_mdtraj().save(\"filename.dcd\")\n",
    "```\n",
    "\n",
    "(`DCD` format does not require a separate topology file, the way `.xtc` requires ` .gro`)"
   ]
  },
  {
   "cell_type": "code",
   "execution_count": null,
   "metadata": {
    "collapsed": true
   },
   "outputs": [],
   "source": [
    "# YOUR TURN (advanced): Use nglview to visualize the the shooting point from a path\n",
    "# 1. Pick a step, find the shooting point (in step.change.canonical.details)\n",
    "# 2. Take that snapshot, wrap it in a trajectory (paths.Trajectory([snapshot]))\n",
    "# 3. Visualize it with nglview\n",
    "# Did your selected snapshot come from an accepted or rejected trial?"
   ]
  },
  {
   "cell_type": "code",
   "execution_count": null,
   "metadata": {
    "collapsed": true
   },
   "outputs": [],
   "source": [
    "storage.close()"
   ]
  },
  {
   "cell_type": "markdown",
   "metadata": {},
   "source": [
    "## Analysis of a long TPS simulation\n",
    "\n",
    "Now we'll start analyzing a long (10000 shooting move) version of the same simulation you used. To save storage space, the full snapshots were stripped out of this example, so only the pre-calculated results for $\\phi$ and $\\psi$ are stored. You can get the file from: https://figshare.com/s/01302bc7a39ec7648ea1\n",
    "\n",
    "Load the file, and from the file pull our the engine (which tells us what the timestep was) and the move scheme (which gives us a starting point for much of the analysis)."
   ]
  },
  {
   "cell_type": "code",
   "execution_count": null,
   "metadata": {
    "collapsed": true
   },
   "outputs": [],
   "source": [
    "%%time\n",
    "flexible = paths.AnalysisStorage(\"alanine_dipeptide_tps_split.nc\")"
   ]
  },
  {
   "cell_type": "code",
   "execution_count": null,
   "metadata": {
    "collapsed": true
   },
   "outputs": [],
   "source": [
    "engine = flexible.engines[0]\n",
    "flex_scheme = flexible.schemes[0]"
   ]
  },
  {
   "cell_type": "code",
   "execution_count": null,
   "metadata": {
    "collapsed": true
   },
   "outputs": [],
   "source": [
    "print(\"File size: {0} for {1} steps, {2} snapshots\".format(\n",
    "    flexible.file_size_str,\n",
    "    len(flexible.steps),\n",
    "    len(flexible.snapshots)\n",
    "))"
   ]
  },
  {
   "cell_type": "markdown",
   "metadata": {},
   "source": [
    "That tell us a little about the file we're dealing with. Now we'll start analyzing the contents of that file. We used a very simple move scheme (only shooting), so the main information that the `move_summary` gives us is the acceptance of the only kind of move in that scheme. See the MSTIS examples for more complicated move schemes, where you want to make sure that frequency at which the move runs is close to what was expected."
   ]
  },
  {
   "cell_type": "code",
   "execution_count": null,
   "metadata": {
    "collapsed": true,
    "scrolled": true
   },
   "outputs": [],
   "source": [
    "flex_scheme.move_summary(flexible.steps)"
   ]
  },
  {
   "cell_type": "markdown",
   "metadata": {},
   "source": [
    "* How does this acceptance probability compare with the one from your own simulation?"
   ]
  },
  {
   "cell_type": "markdown",
   "metadata": {},
   "source": [
    "#### Replica history tree and decorrelated trajectories\n",
    "\n",
    "The `PathTree` object gives us both the history tree (often called the \"move tree\") and the number of decorrelated trajectories.\n",
    "\n",
    "A `PathTree` is made for a certain set of Monte Carlo steps. First, we make a tree of only the first 40 steps in order to visualize it. (All the steps would be unwieldy.) \n",
    "\n",
    "After the visualization, we make a second `PathTree` of all the steps, in order to count the number of decorrelated trajectories."
   ]
  },
  {
   "cell_type": "code",
   "execution_count": null,
   "metadata": {
    "collapsed": true
   },
   "outputs": [],
   "source": [
    "tree = ops_vis.PathTree(\n",
    "    flexible.steps[0:40],\n",
    "    ops_vis.ReplicaEvolution(\n",
    "        replica=0\n",
    "    )\n",
    ")\n",
    "\n",
    "SVG(tree.svg())"
   ]
  },
  {
   "cell_type": "code",
   "execution_count": null,
   "metadata": {
    "collapsed": true
   },
   "outputs": [],
   "source": [
    "%%time\n",
    "full_tree = ops_vis.PathTree(\n",
    "    flexible.steps,\n",
    "    ops_vis.ReplicaEvolution(\n",
    "        replica=0\n",
    "    )\n",
    ")\n",
    "\n",
    "print(\"Decorrelated trajectories:\", len(full_tree.generator.decorrelated_trajectories))"
   ]
  },
  {
   "cell_type": "markdown",
   "metadata": {},
   "source": [
    "* How does this path tree compare with the one from your own simulation?\n",
    "* How many MC steps does it take, on average, to get a decorrelated path in this simulation?\n",
    "* How many accepted steps are there between decorrelated paths (on average)?"
   ]
  },
  {
   "cell_type": "markdown",
   "metadata": {},
   "source": [
    "#### Path length distribution\n",
    "\n",
    "Flexible length TPS gives a distribution of path lengths. Here we calculate the length of every accepted trajectory, then histogram those lengths, and calculate the maximum and average path lengths.\n",
    "\n",
    "We also use `engine.snapshot_timestep` to convert the count of frames to time, including correct units."
   ]
  },
  {
   "cell_type": "code",
   "execution_count": null,
   "metadata": {
    "collapsed": true,
    "scrolled": false
   },
   "outputs": [],
   "source": [
    "path_lengths = [len(step.active[0].trajectory) for step in flexible.steps]\n",
    "plt.hist(path_lengths, bins=40, alpha=0.5);\n",
    "print(\"Maximum:\", max(path_lengths), \"(\"+str(max(path_lengths)*engine.snapshot_timestep)+\")\")\n",
    "print(\"Average:\", \"{0:.2f}\".format(np.mean(path_lengths)), \"(\"+(np.mean(path_lengths)*engine.snapshot_timestep).format(\"%.3f\")+\")\")"
   ]
  },
  {
   "cell_type": "markdown",
   "metadata": {},
   "source": [
    "* Estimate (by eye) what the path length should be if you ensured that fixed-length TPS would include 99% of the paths. How much longer is that than the average path length here?"
   ]
  },
  {
   "cell_type": "markdown",
   "metadata": {},
   "source": [
    "#### Path density histogram\n",
    "\n",
    "Next we will create a path density histogram. Calculating the histogram itself is quite easy: first we reload the collective variables we want to plot it in (we choose the phi and psi angles). Then we create the empty path density histogram, by telling it which CVs to use and how to make the histogram (bin sizes, etc). Finally, we build the histogram by giving it the list of active trajectories to histogram."
   ]
  },
  {
   "cell_type": "code",
   "execution_count": null,
   "metadata": {
    "collapsed": true
   },
   "outputs": [],
   "source": [
    "psi = flexible.cvs['psi']\n",
    "phi = flexible.cvs['phi']\n",
    "deg = 180.0 / np.pi"
   ]
  },
  {
   "cell_type": "code",
   "execution_count": null,
   "metadata": {
    "collapsed": true
   },
   "outputs": [],
   "source": [
    "path_density = paths.PathDensityHistogram(cvs=[phi, psi],\n",
    "                                          left_bin_edges=(-180/deg,-180/deg),\n",
    "                                          bin_widths=(2.0/deg,2.0/deg))"
   ]
  },
  {
   "cell_type": "markdown",
   "metadata": {},
   "source": [
    "The next step is will take the longest (perhaps up to 20 minutes):"
   ]
  },
  {
   "cell_type": "code",
   "execution_count": null,
   "metadata": {
    "collapsed": true
   },
   "outputs": [],
   "source": [
    "%%time\n",
    "path_dens_counter = path_density.histogram([s.active[0].trajectory for s in flexible.steps])"
   ]
  },
  {
   "cell_type": "markdown",
   "metadata": {},
   "source": [
    "Now we've built the path density histogram, and we want to visualize it. We have a convenient `HistogramPlotter2D` object that works in this case, and takes the histogram, desired plot tick labels and limits, and additional `matplotlib` named arguments to `plt.pcolormesh`."
   ]
  },
  {
   "cell_type": "code",
   "execution_count": null,
   "metadata": {
    "collapsed": true
   },
   "outputs": [],
   "source": [
    "tick_labels = np.arange(-np.pi, np.pi+0.01, np.pi/4)\n",
    "plotter = HistogramPlotter2D(path_density, \n",
    "                             xticklabels=tick_labels,\n",
    "                             yticklabels=tick_labels, \n",
    "                             label_format=\"{:4.2f}\")\n",
    "ax = plotter.plot(cmap=\"Blues\")"
   ]
  },
  {
   "cell_type": "markdown",
   "metadata": {},
   "source": [
    "You should see two areas with a little more density in the paths. \n",
    "\n",
    "* Which one appears to be more frequent? \n",
    "* Do they look like completely separate channels, or does it look like some paths involves parts of both?\n",
    "\n",
    "Next, you'll find a representative trajectory for each channel. This will just involve trial and error until you find one."
   ]
  },
  {
   "cell_type": "code",
   "execution_count": null,
   "metadata": {
    "collapsed": true
   },
   "outputs": [],
   "source": [
    "# YOUR TURN: find those trajectories. Find the right numbers to replace #### below (and uncomment them).\n",
    "# The next cell will plot the trajectories.\n",
    "# trajA = flexible.steps[####].active[0].trajectory\n",
    "# trajB = flexible.steps[####].active[0].trajectory"
   ]
  },
  {
   "cell_type": "code",
   "execution_count": null,
   "metadata": {
    "collapsed": true
   },
   "outputs": [],
   "source": [
    "ax = plotter.plot(xlim=(-np.pi, 0), ylim=(-np.pi/2, np.pi), cmap=\"Blues\")\n",
    "plotter.plot_trajectory(trajA, '-r', lw=1)\n",
    "plotter.plot_trajectory(trajB, '-k', lw=1)\n",
    "#plt.savefig(\"AD_tps_pathdensity.pdf\")  # uncomment this line to save as PDF"
   ]
  },
  {
   "cell_type": "markdown",
   "metadata": {},
   "source": [
    "If you have the full simulation data, you can visualize these trajectories with NGLView. (Full simulation data not provided online, due to size)."
   ]
  },
  {
   "cell_type": "code",
   "execution_count": null,
   "metadata": {
    "collapsed": true
   },
   "outputs": [],
   "source": [
    "#md_trajA = trajA.to_mdtraj().image_molecules()\n",
    "#view_A = nv.show_mdtraj(md_trajA)\n",
    "#view_A.add_ball_and_stick(\"ACE ALA NME\")\n",
    "#view_A.center()\n",
    "#view_A"
   ]
  },
  {
   "cell_type": "code",
   "execution_count": null,
   "metadata": {
    "collapsed": true
   },
   "outputs": [],
   "source": [
    "#md_trajB = trajB.to_mdtraj().image_molecules()\n",
    "#view_B = nv.show_mdtraj(md_trajB)\n",
    "#view_B.add_ball_and_stick(\"ACE ALA NME\")\n",
    "#view_B.center()\n",
    "#view_B"
   ]
  }
 ],
 "metadata": {
  "kernelspec": {
   "display_name": "Python 2",
   "language": "python",
   "name": "python2"
  },
  "language_info": {
   "codemirror_mode": {
    "name": "ipython",
    "version": 2
   },
   "file_extension": ".py",
   "mimetype": "text/x-python",
   "name": "python",
   "nbconvert_exporter": "python",
   "pygments_lexer": "ipython2",
   "version": "2.7.14"
  }
 },
 "nbformat": 4,
 "nbformat_minor": 1
}
